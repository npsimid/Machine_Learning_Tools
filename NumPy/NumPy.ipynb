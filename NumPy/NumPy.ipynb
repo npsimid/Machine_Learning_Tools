{
 "cells": [
  {
   "cell_type": "markdown",
   "id": "79a84408",
   "metadata": {},
   "source": [
    "# 1. Importul bibliotecilor"
   ]
  },
  {
   "cell_type": "code",
   "execution_count": 1,
   "id": "0af80adf",
   "metadata": {},
   "outputs": [],
   "source": [
    "import numpy as np\n",
    "import pandas as pd\n",
    "import matplotlib.pyplot as plt"
   ]
  },
  {
   "cell_type": "markdown",
   "id": "63f2783a",
   "metadata": {},
   "source": [
    "# 2. Tipuri de date si atribute"
   ]
  },
  {
   "cell_type": "markdown",
   "id": "c63c9356",
   "metadata": {},
   "source": [
    "## 2.1. Tipuri de date NumPy"
   ]
  },
  {
   "cell_type": "code",
   "execution_count": 2,
   "id": "8a1d7f40",
   "metadata": {},
   "outputs": [
    {
     "data": {
      "text/plain": [
       "array([1, 2, 3])"
      ]
     },
     "execution_count": 2,
     "metadata": {},
     "output_type": "execute_result"
    }
   ],
   "source": [
    "# crearea unui array unidimensional\n",
    "a1 = np.array([1, 2, 3])\n",
    "a1"
   ]
  },
  {
   "cell_type": "code",
   "execution_count": 3,
   "id": "8a836cdc",
   "metadata": {},
   "outputs": [
    {
     "data": {
      "text/plain": [
       "array([[1. , 2. , 3.3],\n",
       "       [4. , 5. , 6.5]])"
      ]
     },
     "execution_count": 3,
     "metadata": {},
     "output_type": "execute_result"
    }
   ],
   "source": [
    "# crearea unui array bidimensional\n",
    "a2 = np.array([[1, 2.0, 3.3],\n",
    "               [4, 5, 6.5]])\n",
    "a2"
   ]
  },
  {
   "cell_type": "code",
   "execution_count": 4,
   "id": "82146628",
   "metadata": {},
   "outputs": [
    {
     "data": {
      "text/plain": [
       "array([[[ 1,  2,  3],\n",
       "        [ 4,  5,  6]],\n",
       "\n",
       "       [[ 7,  8,  9],\n",
       "        [10, 11, 12]],\n",
       "\n",
       "       [[13, 14, 15],\n",
       "        [16, 17, 18]]])"
      ]
     },
     "execution_count": 4,
     "metadata": {},
     "output_type": "execute_result"
    }
   ],
   "source": [
    "# crearea unui array tridimensional\n",
    "a3 = np.array([[[1, 2, 3],\n",
    "                [4, 5, 6]],\n",
    "               [[7, 8, 9],\n",
    "                [10, 11, 12]],\n",
    "               [[13, 14, 15],\n",
    "                [16, 17, 18]]])\n",
    "a3"
   ]
  },
  {
   "cell_type": "markdown",
   "id": "405b522c",
   "metadata": {},
   "source": [
    "## 2.2. Atributele elementelor de tip array\n",
    "### 2.2.1. Forma array - `.shape`"
   ]
  },
  {
   "cell_type": "code",
   "execution_count": 5,
   "id": "256e7718",
   "metadata": {},
   "outputs": [
    {
     "data": {
      "text/plain": [
       "(3,)"
      ]
     },
     "execution_count": 5,
     "metadata": {},
     "output_type": "execute_result"
    }
   ],
   "source": [
    "# vizualizarea formei lui a1\n",
    "a1.shape"
   ]
  },
  {
   "cell_type": "code",
   "execution_count": 6,
   "id": "7ccee2ed",
   "metadata": {},
   "outputs": [
    {
     "data": {
      "text/plain": [
       "(2, 3)"
      ]
     },
     "execution_count": 6,
     "metadata": {},
     "output_type": "execute_result"
    }
   ],
   "source": [
    "# vizualizarea formei lui a2\n",
    "a2.shape"
   ]
  },
  {
   "cell_type": "code",
   "execution_count": 7,
   "id": "6b36123d",
   "metadata": {},
   "outputs": [
    {
     "data": {
      "text/plain": [
       "(3, 2, 3)"
      ]
     },
     "execution_count": 7,
     "metadata": {},
     "output_type": "execute_result"
    }
   ],
   "source": [
    "# vizualizarea formei lui a3\n",
    "a3.shape"
   ]
  },
  {
   "cell_type": "markdown",
   "id": "93332a8d",
   "metadata": {},
   "source": [
    "### 2.2.2. Numarul dimensiunii - `.ndim`"
   ]
  },
  {
   "cell_type": "code",
   "execution_count": 8,
   "id": "87811fba",
   "metadata": {},
   "outputs": [
    {
     "data": {
      "text/plain": [
       "1"
      ]
     },
     "execution_count": 8,
     "metadata": {},
     "output_type": "execute_result"
    }
   ],
   "source": [
    "# vizualizarea numarului de dimensiuni pentru a1\n",
    "a1.ndim"
   ]
  },
  {
   "cell_type": "code",
   "execution_count": 9,
   "id": "a0de977f",
   "metadata": {},
   "outputs": [
    {
     "data": {
      "text/plain": [
       "2"
      ]
     },
     "execution_count": 9,
     "metadata": {},
     "output_type": "execute_result"
    }
   ],
   "source": [
    "# vizualizarea numarului de dimensiuni pentru a2\n",
    "a2.ndim"
   ]
  },
  {
   "cell_type": "code",
   "execution_count": 10,
   "id": "d027a756",
   "metadata": {},
   "outputs": [
    {
     "data": {
      "text/plain": [
       "3"
      ]
     },
     "execution_count": 10,
     "metadata": {},
     "output_type": "execute_result"
    }
   ],
   "source": [
    "# vizualizarea numarului de dimensiuni pentru a3\n",
    "a3.ndim"
   ]
  },
  {
   "cell_type": "markdown",
   "id": "91dd886e",
   "metadata": {},
   "source": [
    "### 2.2.3. Tipul elementelor componente - `.dtype`"
   ]
  },
  {
   "cell_type": "code",
   "execution_count": 11,
   "id": "2366a80d",
   "metadata": {},
   "outputs": [
    {
     "data": {
      "text/plain": [
       "dtype('int32')"
      ]
     },
     "execution_count": 11,
     "metadata": {},
     "output_type": "execute_result"
    }
   ],
   "source": [
    "# determinarea tipului elementelor lui a1\n",
    "a1.dtype"
   ]
  },
  {
   "cell_type": "code",
   "execution_count": 12,
   "id": "26977721",
   "metadata": {},
   "outputs": [
    {
     "data": {
      "text/plain": [
       "dtype('float64')"
      ]
     },
     "execution_count": 12,
     "metadata": {},
     "output_type": "execute_result"
    }
   ],
   "source": [
    "# determinarea tipului elementelor lui a2\n",
    "a2.dtype"
   ]
  },
  {
   "cell_type": "code",
   "execution_count": 13,
   "id": "c6115cc2",
   "metadata": {},
   "outputs": [
    {
     "data": {
      "text/plain": [
       "dtype('int32')"
      ]
     },
     "execution_count": 13,
     "metadata": {},
     "output_type": "execute_result"
    }
   ],
   "source": [
    "# determinarea tipului elementelor lui a3\n",
    "a3.dtype"
   ]
  },
  {
   "cell_type": "markdown",
   "id": "28114be9",
   "metadata": {},
   "source": [
    "### 2.2.4. Conversia tipului de date a componentelor - `astype('noul_tip')`"
   ]
  },
  {
   "cell_type": "code",
   "execution_count": 14,
   "id": "f6be9786",
   "metadata": {},
   "outputs": [
    {
     "data": {
      "text/plain": [
       "dtype('int8')"
      ]
     },
     "execution_count": 14,
     "metadata": {},
     "output_type": "execute_result"
    }
   ],
   "source": [
    "# modificarea tipului elementelor lui a1 din int32 in int8\n",
    "a1 = a1.astype('int8')\n",
    "a1.dtype"
   ]
  },
  {
   "cell_type": "code",
   "execution_count": 15,
   "id": "490f7637",
   "metadata": {},
   "outputs": [
    {
     "data": {
      "text/plain": [
       "dtype('int32')"
      ]
     },
     "execution_count": 15,
     "metadata": {},
     "output_type": "execute_result"
    }
   ],
   "source": [
    "# modificarea tipului elementelor lui a2 din float64 in int32\n",
    "a2 = a2.astype('int32')\n",
    "a2.dtype"
   ]
  },
  {
   "cell_type": "code",
   "execution_count": 16,
   "id": "a19dd460",
   "metadata": {},
   "outputs": [
    {
     "data": {
      "text/plain": [
       "dtype('float32')"
      ]
     },
     "execution_count": 16,
     "metadata": {},
     "output_type": "execute_result"
    }
   ],
   "source": [
    "# modificarea tipului elementelor lui a3 din int32 in float32\n",
    "a3 = a3.astype('float32')\n",
    "a3.dtype"
   ]
  },
  {
   "cell_type": "markdown",
   "id": "c41976ee",
   "metadata": {},
   "source": [
    "### 2.2.5. Tipul array - `type()`"
   ]
  },
  {
   "cell_type": "code",
   "execution_count": 17,
   "id": "40b17976",
   "metadata": {},
   "outputs": [
    {
     "data": {
      "text/plain": [
       "numpy.ndarray"
      ]
     },
     "execution_count": 17,
     "metadata": {},
     "output_type": "execute_result"
    }
   ],
   "source": [
    "# determinarea tipului lui a1\n",
    "type(a1)"
   ]
  },
  {
   "cell_type": "code",
   "execution_count": 18,
   "id": "6382192d",
   "metadata": {},
   "outputs": [
    {
     "data": {
      "text/plain": [
       "numpy.ndarray"
      ]
     },
     "execution_count": 18,
     "metadata": {},
     "output_type": "execute_result"
    }
   ],
   "source": [
    "# determinarea tipului lui a2\n",
    "type(a2)"
   ]
  },
  {
   "cell_type": "code",
   "execution_count": 19,
   "id": "00e53f99",
   "metadata": {},
   "outputs": [
    {
     "data": {
      "text/plain": [
       "numpy.ndarray"
      ]
     },
     "execution_count": 19,
     "metadata": {},
     "output_type": "execute_result"
    }
   ],
   "source": [
    "# determinarea tipului lui a3\n",
    "type(a3)"
   ]
  },
  {
   "cell_type": "markdown",
   "id": "5c5033f0",
   "metadata": {},
   "source": [
    "### 2.2.6. Numarul elementelor componente - `.size`"
   ]
  },
  {
   "cell_type": "code",
   "execution_count": 20,
   "id": "7083dd98",
   "metadata": {},
   "outputs": [
    {
     "data": {
      "text/plain": [
       "3"
      ]
     },
     "execution_count": 20,
     "metadata": {},
     "output_type": "execute_result"
    }
   ],
   "source": [
    "# determinarea numarului de elemente in a1\n",
    "a1.size"
   ]
  },
  {
   "cell_type": "code",
   "execution_count": 21,
   "id": "5f1da183",
   "metadata": {},
   "outputs": [
    {
     "data": {
      "text/plain": [
       "6"
      ]
     },
     "execution_count": 21,
     "metadata": {},
     "output_type": "execute_result"
    }
   ],
   "source": [
    "# determinarea numarului de elemente in a2\n",
    "a2.size"
   ]
  },
  {
   "cell_type": "code",
   "execution_count": 22,
   "id": "ce599a98",
   "metadata": {},
   "outputs": [
    {
     "data": {
      "text/plain": [
       "18"
      ]
     },
     "execution_count": 22,
     "metadata": {},
     "output_type": "execute_result"
    }
   ],
   "source": [
    "# determinarea numarului de elemente in a3\n",
    "a3.size"
   ]
  },
  {
   "cell_type": "markdown",
   "id": "fc763296",
   "metadata": {},
   "source": [
    "### 2.2.7. Volumul de memorie ocupat de un element (bytes) - `.itemsize`"
   ]
  },
  {
   "cell_type": "code",
   "execution_count": 23,
   "id": "f068c738",
   "metadata": {},
   "outputs": [
    {
     "data": {
      "text/plain": [
       "1"
      ]
     },
     "execution_count": 23,
     "metadata": {},
     "output_type": "execute_result"
    }
   ],
   "source": [
    "# determinarea volumului de memorie coupat de un element al a1\n",
    "a1.itemsize"
   ]
  },
  {
   "cell_type": "code",
   "execution_count": 24,
   "id": "3664dd68",
   "metadata": {},
   "outputs": [
    {
     "data": {
      "text/plain": [
       "4"
      ]
     },
     "execution_count": 24,
     "metadata": {},
     "output_type": "execute_result"
    }
   ],
   "source": [
    "# determinarea volumului de memorie coupat de un element al a2\n",
    "a2.itemsize"
   ]
  },
  {
   "cell_type": "code",
   "execution_count": 25,
   "id": "f8a56485",
   "metadata": {},
   "outputs": [
    {
     "data": {
      "text/plain": [
       "4"
      ]
     },
     "execution_count": 25,
     "metadata": {},
     "output_type": "execute_result"
    }
   ],
   "source": [
    "# determinarea volumului de memorie coupat de un element al a3\n",
    "a3.itemsize"
   ]
  },
  {
   "cell_type": "markdown",
   "id": "1f168c80",
   "metadata": {},
   "source": [
    "### 2.2.8. Volumul de memorie ocupat de un array (bytes) - `.nbytes`"
   ]
  },
  {
   "cell_type": "code",
   "execution_count": 26,
   "id": "a66c3fa1",
   "metadata": {},
   "outputs": [
    {
     "data": {
      "text/plain": [
       "3"
      ]
     },
     "execution_count": 26,
     "metadata": {},
     "output_type": "execute_result"
    }
   ],
   "source": [
    "# determinarea volumului de memorie coupat de a1\n",
    "a1.nbytes"
   ]
  },
  {
   "cell_type": "code",
   "execution_count": 27,
   "id": "509199f6",
   "metadata": {},
   "outputs": [
    {
     "data": {
      "text/plain": [
       "24"
      ]
     },
     "execution_count": 27,
     "metadata": {},
     "output_type": "execute_result"
    }
   ],
   "source": [
    "# determinarea volumului de memorie coupat de a2\n",
    "a2.nbytes"
   ]
  },
  {
   "cell_type": "code",
   "execution_count": 28,
   "id": "187d3c6f",
   "metadata": {},
   "outputs": [
    {
     "data": {
      "text/plain": [
       "72"
      ]
     },
     "execution_count": 28,
     "metadata": {},
     "output_type": "execute_result"
    }
   ],
   "source": [
    "# determinarea volumului de memorie coupat de a3\n",
    "a3.nbytes"
   ]
  },
  {
   "cell_type": "markdown",
   "id": "5f0de42f",
   "metadata": {},
   "source": [
    "## 2.3. Transformarea unui tip NumPy in tip Pandas"
   ]
  },
  {
   "cell_type": "code",
   "execution_count": 29,
   "id": "f0a2974f",
   "metadata": {},
   "outputs": [
    {
     "data": {
      "text/plain": [
       "0    1\n",
       "1    2\n",
       "2    3\n",
       "dtype: int8"
      ]
     },
     "execution_count": 29,
     "metadata": {},
     "output_type": "execute_result"
    }
   ],
   "source": [
    "# transformarea unui array unidimensional in serie pandas\n",
    "s = pd.Series(a1)\n",
    "s"
   ]
  },
  {
   "cell_type": "code",
   "execution_count": 30,
   "id": "1a1ca046",
   "metadata": {},
   "outputs": [
    {
     "data": {
      "text/html": [
       "<div>\n",
       "<style scoped>\n",
       "    .dataframe tbody tr th:only-of-type {\n",
       "        vertical-align: middle;\n",
       "    }\n",
       "\n",
       "    .dataframe tbody tr th {\n",
       "        vertical-align: top;\n",
       "    }\n",
       "\n",
       "    .dataframe thead th {\n",
       "        text-align: right;\n",
       "    }\n",
       "</style>\n",
       "<table border=\"1\" class=\"dataframe\">\n",
       "  <thead>\n",
       "    <tr style=\"text-align: right;\">\n",
       "      <th></th>\n",
       "      <th>0</th>\n",
       "      <th>1</th>\n",
       "      <th>2</th>\n",
       "    </tr>\n",
       "  </thead>\n",
       "  <tbody>\n",
       "    <tr>\n",
       "      <th>0</th>\n",
       "      <td>1</td>\n",
       "      <td>2</td>\n",
       "      <td>3</td>\n",
       "    </tr>\n",
       "    <tr>\n",
       "      <th>1</th>\n",
       "      <td>4</td>\n",
       "      <td>5</td>\n",
       "      <td>6</td>\n",
       "    </tr>\n",
       "  </tbody>\n",
       "</table>\n",
       "</div>"
      ],
      "text/plain": [
       "   0  1  2\n",
       "0  1  2  3\n",
       "1  4  5  6"
      ]
     },
     "execution_count": 30,
     "metadata": {},
     "output_type": "execute_result"
    }
   ],
   "source": [
    "# transformarea unui array bidimensional in dataframe\n",
    "df = pd.DataFrame(a2)\n",
    "df"
   ]
  },
  {
   "cell_type": "markdown",
   "id": "5d3e6a5f",
   "metadata": {},
   "source": [
    "# 3. Crearea unui array NumPy\n",
    "## 3.1. Crearea unui array cu ajutorul listelor"
   ]
  },
  {
   "cell_type": "code",
   "execution_count": 31,
   "id": "28a326fe",
   "metadata": {},
   "outputs": [
    {
     "data": {
      "text/plain": [
       "([6, 2, 8, 4], [7, 9, 3, 5])"
      ]
     },
     "execution_count": 31,
     "metadata": {},
     "output_type": "execute_result"
    }
   ],
   "source": [
    "# se creaza 2 liste Python\n",
    "lt1 = [6, 2, 8, 4]\n",
    "lt2 = [7, 9, 3, 5]\n",
    "lt1, lt2"
   ]
  },
  {
   "cell_type": "code",
   "execution_count": 32,
   "id": "7ed4d2a3",
   "metadata": {},
   "outputs": [
    {
     "data": {
      "text/plain": [
       "array([6, 2, 8, 4])"
      ]
     },
     "execution_count": 32,
     "metadata": {},
     "output_type": "execute_result"
    }
   ],
   "source": [
    "# se creaza un array unidimensional din lt1\n",
    "ar1=np.array(lt1)\n",
    "ar1"
   ]
  },
  {
   "cell_type": "code",
   "execution_count": 33,
   "id": "83cdd9ce",
   "metadata": {},
   "outputs": [
    {
     "data": {
      "text/plain": [
       "array([[6, 2, 8, 4],\n",
       "       [7, 9, 3, 5]])"
      ]
     },
     "execution_count": 33,
     "metadata": {},
     "output_type": "execute_result"
    }
   ],
   "source": [
    "# se creaza un array bidimensional din lt1 si lt2\n",
    "ar2=np.array([lt1,lt2])\n",
    "ar2"
   ]
  },
  {
   "cell_type": "code",
   "execution_count": 34,
   "id": "4f79d938",
   "metadata": {},
   "outputs": [
    {
     "data": {
      "text/plain": [
       "array([[6, 2, 8, 4],\n",
       "       [7, 9, 3, 5]])"
      ]
     },
     "execution_count": 34,
     "metadata": {},
     "output_type": "execute_result"
    }
   ],
   "source": [
    "# se o copie a ar2\n",
    "ar3 = ar2.copy()\n",
    "ar3"
   ]
  },
  {
   "cell_type": "markdown",
   "id": "7def8ce0",
   "metadata": {},
   "source": [
    "## 3.2. Crearea unui array din elemente identice"
   ]
  },
  {
   "cell_type": "code",
   "execution_count": 35,
   "id": "8370e890",
   "metadata": {},
   "outputs": [
    {
     "data": {
      "text/plain": [
       "array([[0, 0, 0],\n",
       "       [0, 0, 0],\n",
       "       [0, 0, 0],\n",
       "       [0, 0, 0]], dtype=int8)"
      ]
     },
     "execution_count": 35,
     "metadata": {},
     "output_type": "execute_result"
    }
   ],
   "source": [
    "# se creaza un array doar din elemente 0 de forma (4,3) specificandu-se tipul elementelor\n",
    "ar4 = np.zeros((4,3), dtype = 'int8')\n",
    "ar4"
   ]
  },
  {
   "cell_type": "code",
   "execution_count": 36,
   "id": "489c97cd",
   "metadata": {},
   "outputs": [
    {
     "data": {
      "text/plain": [
       "array([[0, 0, 0, 0],\n",
       "       [0, 0, 0, 0]])"
      ]
     },
     "execution_count": 36,
     "metadata": {},
     "output_type": "execute_result"
    }
   ],
   "source": [
    "# se creaza un array doar din elemente 0 de forma array ar2\n",
    "ar5 = np.zeros_like(ar2)\n",
    "ar5"
   ]
  },
  {
   "cell_type": "code",
   "execution_count": 37,
   "id": "e77201a3",
   "metadata": {},
   "outputs": [
    {
     "data": {
      "text/plain": [
       "array([[1., 1., 1., 1., 1.],\n",
       "       [1., 1., 1., 1., 1.],\n",
       "       [1., 1., 1., 1., 1.]])"
      ]
     },
     "execution_count": 37,
     "metadata": {},
     "output_type": "execute_result"
    }
   ],
   "source": [
    "# se creaza un array doar din elemente 1 de forma (3,5)\n",
    "ar6 = np.ones((3,5))\n",
    "ar6"
   ]
  },
  {
   "cell_type": "code",
   "execution_count": 38,
   "id": "c9a11687",
   "metadata": {},
   "outputs": [
    {
     "data": {
      "text/plain": [
       "array([[[1., 1., 1.],\n",
       "        [1., 1., 1.]],\n",
       "\n",
       "       [[1., 1., 1.],\n",
       "        [1., 1., 1.]],\n",
       "\n",
       "       [[1., 1., 1.],\n",
       "        [1., 1., 1.]]], dtype=float16)"
      ]
     },
     "execution_count": 38,
     "metadata": {},
     "output_type": "execute_result"
    }
   ],
   "source": [
    "# se creaza un array doar din elemente 1 de forma array a3 specificandu-se tipul elementelor\n",
    "ar7 = np.ones_like(a3, dtype = \"float16\")\n",
    "ar7"
   ]
  },
  {
   "cell_type": "code",
   "execution_count": 39,
   "id": "866582f9",
   "metadata": {},
   "outputs": [
    {
     "data": {
      "text/plain": [
       "array([[5, 5, 5],\n",
       "       [5, 5, 5],\n",
       "       [5, 5, 5]], dtype=int16)"
      ]
     },
     "execution_count": 39,
     "metadata": {},
     "output_type": "execute_result"
    }
   ],
   "source": [
    "# se creaza un array doar din elemente de un singura valoarea (ex. 5) de forma (3,3) specificandu-se tipul elementelor\n",
    "ar8 = np.full((3,3), 5, dtype = \"int16\")\n",
    "ar8"
   ]
  },
  {
   "cell_type": "code",
   "execution_count": 40,
   "id": "e5dbf8be",
   "metadata": {},
   "outputs": [
    {
     "data": {
      "text/plain": [
       "array([[10, 10, 10],\n",
       "       [10, 10, 10]])"
      ]
     },
     "execution_count": 40,
     "metadata": {},
     "output_type": "execute_result"
    }
   ],
   "source": [
    "# se creaza un array doar din elemente de un singura valoarea (ex. 10) de forma array a2\n",
    "ar9 = np.full_like(a2, 10)\n",
    "ar9"
   ]
  },
  {
   "cell_type": "code",
   "execution_count": 41,
   "id": "874b1fa8",
   "metadata": {},
   "outputs": [
    {
     "data": {
      "text/plain": [
       "array([[1., 0., 0., 0., 0.],\n",
       "       [0., 1., 0., 0., 0.],\n",
       "       [0., 0., 1., 0., 0.],\n",
       "       [0., 0., 0., 1., 0.],\n",
       "       [0., 0., 0., 0., 1.]])"
      ]
     },
     "execution_count": 41,
     "metadata": {},
     "output_type": "execute_result"
    }
   ],
   "source": [
    "# se creaza un array unitar de forma (5,5) (ce va avea 1 pe diagonala principala si 0 in rest)\n",
    "ar10 = np.identity(5)\n",
    "ar10"
   ]
  },
  {
   "cell_type": "markdown",
   "id": "3693515a",
   "metadata": {},
   "source": [
    "## 3.3. Crearea unui array 1D cu elemente dintr-un interval"
   ]
  },
  {
   "cell_type": "code",
   "execution_count": 42,
   "id": "3b6e24bc",
   "metadata": {},
   "outputs": [
    {
     "data": {
      "text/plain": [
       "array([0, 1, 2, 3, 4, 5, 6, 7, 8, 9])"
      ]
     },
     "execution_count": 42,
     "metadata": {},
     "output_type": "execute_result"
    }
   ],
   "source": [
    "# se creaza un array unidimensional cu elementele intregi de la 0 la 9\n",
    "ar11 =  np.arange(10)\n",
    "ar11"
   ]
  },
  {
   "cell_type": "code",
   "execution_count": 69,
   "id": "c19cf621",
   "metadata": {},
   "outputs": [
    {
     "data": {
      "text/plain": [
       "array([3, 4, 5, 6, 7, 8, 9])"
      ]
     },
     "execution_count": 69,
     "metadata": {},
     "output_type": "execute_result"
    }
   ],
   "source": [
    "# se creaza un array unidimensional cu elementele intregi de la 5 la 9\n",
    "ar12 =  np.arange(3, 10)\n",
    "ar12"
   ]
  },
  {
   "cell_type": "code",
   "execution_count": 44,
   "id": "a0c67f1a",
   "metadata": {},
   "outputs": [
    {
     "data": {
      "text/plain": [
       "array([4, 6, 8])"
      ]
     },
     "execution_count": 44,
     "metadata": {},
     "output_type": "execute_result"
    }
   ],
   "source": [
    "# se creaza un array unidimensional cu elementele intregi de la 4 la 9 luate cu pasul 2\n",
    "ar13 =  np.arange(4, 10, 2)\n",
    "ar13"
   ]
  },
  {
   "cell_type": "code",
   "execution_count": 45,
   "id": "4df30edf",
   "metadata": {},
   "outputs": [
    {
     "data": {
      "text/plain": [
       "array([5, 5, 5, 6, 6, 6, 7, 7, 7, 8, 8, 8, 9, 9, 9])"
      ]
     },
     "execution_count": 45,
     "metadata": {},
     "output_type": "execute_result"
    }
   ],
   "source": [
    "# se creaza un array ce repeta de 3 ori elementele ar13\n",
    "ar14 = np.repeat(ar12, 3)\n",
    "ar14"
   ]
  },
  {
   "cell_type": "code",
   "execution_count": 46,
   "id": "5488f020",
   "metadata": {},
   "outputs": [
    {
     "data": {
      "text/plain": [
       "array([ 0.        ,  0.52631579,  1.05263158,  1.57894737,  2.10526316,\n",
       "        2.63157895,  3.15789474,  3.68421053,  4.21052632,  4.73684211,\n",
       "        5.26315789,  5.78947368,  6.31578947,  6.84210526,  7.36842105,\n",
       "        7.89473684,  8.42105263,  8.94736842,  9.47368421, 10.        ])"
      ]
     },
     "execution_count": 46,
     "metadata": {},
     "output_type": "execute_result"
    }
   ],
   "source": [
    "# se creaza un array format din 20 de elemente situate uniform in intervalul 0 - 10\n",
    "arr15 = np.linspace(0, 10, 20)\n",
    "arr15"
   ]
  },
  {
   "cell_type": "markdown",
   "id": "a94a9611",
   "metadata": {},
   "source": [
    "## 3.4. Crearea unui array cu elemente aliatoare"
   ]
  },
  {
   "cell_type": "code",
   "execution_count": 110,
   "id": "164010b3",
   "metadata": {},
   "outputs": [
    {
     "data": {
      "text/plain": [
       "array([[4, 8, 3, 9, 5],\n",
       "       [5, 9, 8, 7, 7],\n",
       "       [8, 7, 4, 5, 8]])"
      ]
     },
     "execution_count": 110,
     "metadata": {},
     "output_type": "execute_result"
    }
   ],
   "source": [
    "# se creaza un array bidimensional de forma (3,5) cu elementele random intregi de la 2 la 9\n",
    "ar16 =  np.random.randint(2, 10, size=(3,5))\n",
    "ar16"
   ]
  },
  {
   "cell_type": "code",
   "execution_count": 48,
   "id": "7c807f44",
   "metadata": {},
   "outputs": [
    {
     "data": {
      "text/plain": [
       "array([[0.74921273, 0.74272149, 0.57056437, 0.96509886],\n",
       "       [0.51091355, 0.7024006 , 0.35777334, 0.28845526],\n",
       "       [0.8763362 , 0.05839317, 0.50071185, 0.93594685]])"
      ]
     },
     "execution_count": 48,
     "metadata": {},
     "output_type": "execute_result"
    }
   ],
   "source": [
    "# se creaza un array bidimensional de forma (3,4) cu elementele random float de la 0 la 0,999...\n",
    "ar17 =  np.random.random((3,4))\n",
    "ar17"
   ]
  },
  {
   "cell_type": "code",
   "execution_count": 49,
   "id": "c29a8aea",
   "metadata": {},
   "outputs": [
    {
     "data": {
      "text/plain": [
       "array([[[0.16818552, 0.2316913 , 0.36586696, 0.68265687, 0.45482735],\n",
       "        [0.38920201, 0.14659268, 0.73068382, 0.20423392, 0.6991965 ],\n",
       "        [0.05082447, 0.8221006 , 0.90341912, 0.11541429, 0.50423826],\n",
       "        [0.68590812, 0.62702417, 0.62077227, 0.09928109, 0.22474293]],\n",
       "\n",
       "       [[0.0143001 , 0.63937623, 0.36798107, 0.04578308, 0.22903712],\n",
       "        [0.21340432, 0.64242246, 0.08026327, 0.95635528, 0.04227462],\n",
       "        [0.21302933, 0.54007422, 0.41349857, 0.8765023 , 0.63793643],\n",
       "        [0.5894611 , 0.59057744, 0.19907142, 0.52933185, 0.87140561]]])"
      ]
     },
     "execution_count": 49,
     "metadata": {},
     "output_type": "execute_result"
    }
   ],
   "source": [
    "# se creaza un array 3-dimensional de forma (2,4,5) cu elementele random float de la 0 la 0,999...\n",
    "ar18 =  np.random.rand(2, 4, 5)\n",
    "ar18"
   ]
  },
  {
   "cell_type": "code",
   "execution_count": 50,
   "id": "88f69fb4",
   "metadata": {},
   "outputs": [
    {
     "data": {
      "text/plain": [
       "array([[0.97721646, 0.69262032, 0.51913335],\n",
       "       [0.7491463 , 0.16166831, 0.77310398],\n",
       "       [0.50815473, 0.09182504, 0.60262167]])"
      ]
     },
     "execution_count": 50,
     "metadata": {},
     "output_type": "execute_result"
    }
   ],
   "source": [
    "# se creaza un array de forma ar8 cu elementele random float de la 0 la 0,999...\n",
    "ar19 =  np.random.random_sample(ar8.shape)\n",
    "ar19"
   ]
  },
  {
   "cell_type": "markdown",
   "id": "152fa836",
   "metadata": {},
   "source": [
    "## 3.5. Setarea elementelor pseudo-random"
   ]
  },
  {
   "cell_type": "code",
   "execution_count": 51,
   "id": "56f979c0",
   "metadata": {},
   "outputs": [
    {
     "data": {
      "text/plain": [
       "array([[0.95085377, 0.09098846, 0.57344522, 0.00855359, 0.23744696],\n",
       "       [0.30314367, 0.9574316 , 0.77603457, 0.07261542, 0.17968631],\n",
       "       [0.93325042, 0.31198257, 0.00631475, 0.13445846, 0.88260554],\n",
       "       [0.11603073, 0.64097661, 0.13018846, 0.30453147, 0.58152987]])"
      ]
     },
     "execution_count": 51,
     "metadata": {},
     "output_type": "execute_result"
    }
   ],
   "source": [
    "# se creaza un array cu elementele random\n",
    "ar20=np.random.random((4,5))\n",
    "ar20"
   ]
  },
  {
   "cell_type": "code",
   "execution_count": 52,
   "id": "dbf857f8",
   "metadata": {},
   "outputs": [
    {
     "data": {
      "text/plain": [
       "array([[0.59340248, 0.4265276 , 0.51073924, 0.17893934, 0.02468251],\n",
       "       [0.37171015, 0.53367749, 0.69390829, 0.0094128 , 0.94457693],\n",
       "       [0.74726957, 0.63899382, 0.55984019, 0.65375272, 0.43829182],\n",
       "       [0.26402314, 0.33572291, 0.55082449, 0.62957102, 0.61507524]])"
      ]
     },
     "execution_count": 52,
     "metadata": {},
     "output_type": "execute_result"
    }
   ],
   "source": [
    "# se repeta procedura de creare a aceluiasi array\n",
    "ar20=np.random.random((4,5))\n",
    "ar20"
   ]
  },
  {
   "cell_type": "code",
   "execution_count": 53,
   "id": "df7cb1cc",
   "metadata": {},
   "outputs": [
    {
     "data": {
      "text/plain": [
       "array([[0.37454012, 0.95071431, 0.73199394, 0.59865848, 0.15601864],\n",
       "       [0.15599452, 0.05808361, 0.86617615, 0.60111501, 0.70807258],\n",
       "       [0.02058449, 0.96990985, 0.83244264, 0.21233911, 0.18182497],\n",
       "       [0.18340451, 0.30424224, 0.52475643, 0.43194502, 0.29122914]])"
      ]
     },
     "execution_count": 53,
     "metadata": {},
     "output_type": "execute_result"
    }
   ],
   "source": [
    "# seteaza numerele random sa fie pseudo-random si se repeta procedura\n",
    "np.random.seed(42)\n",
    "ar20=np.random.random((4,5))\n",
    "ar20"
   ]
  },
  {
   "cell_type": "code",
   "execution_count": 54,
   "id": "497bc56c",
   "metadata": {},
   "outputs": [
    {
     "data": {
      "text/plain": [
       "array([[0.37454012, 0.95071431, 0.73199394, 0.59865848, 0.15601864],\n",
       "       [0.15599452, 0.05808361, 0.86617615, 0.60111501, 0.70807258],\n",
       "       [0.02058449, 0.96990985, 0.83244264, 0.21233911, 0.18182497],\n",
       "       [0.18340451, 0.30424224, 0.52475643, 0.43194502, 0.29122914]])"
      ]
     },
     "execution_count": 54,
     "metadata": {},
     "output_type": "execute_result"
    }
   ],
   "source": [
    "# se repeta procedura de creare a aceluiasi array cu pseudo-random\n",
    "np.random.seed(42)\n",
    "ar20=np.random.random((4,5))\n",
    "ar20"
   ]
  },
  {
   "cell_type": "markdown",
   "id": "8fa4c6de",
   "metadata": {},
   "source": [
    "# 4. Vizualizarea elementelor in array\n",
    "## 4.1. Vizualizarea elementelor unice in array"
   ]
  },
  {
   "cell_type": "code",
   "execution_count": 111,
   "id": "57afc460",
   "metadata": {},
   "outputs": [
    {
     "data": {
      "text/plain": [
       "array([[4, 8, 3, 9, 5],\n",
       "       [5, 9, 8, 7, 7],\n",
       "       [8, 7, 4, 5, 8]])"
      ]
     },
     "execution_count": 111,
     "metadata": {},
     "output_type": "execute_result"
    }
   ],
   "source": [
    "# se vizualizeaza ar16\n",
    "ar16"
   ]
  },
  {
   "cell_type": "code",
   "execution_count": 112,
   "id": "64f37c93",
   "metadata": {},
   "outputs": [
    {
     "data": {
      "text/plain": [
       "array([3, 4, 5, 7, 8, 9])"
      ]
     },
     "execution_count": 112,
     "metadata": {},
     "output_type": "execute_result"
    }
   ],
   "source": [
    "# determinarea elementelor unice in ar16\n",
    "np.unique(ar16)"
   ]
  },
  {
   "cell_type": "markdown",
   "id": "5ee989c8",
   "metadata": {},
   "source": [
    "## 4.2. Selectarea elementelor unui array conform indicelui"
   ]
  },
  {
   "cell_type": "code",
   "execution_count": 70,
   "id": "3c386bda",
   "metadata": {},
   "outputs": [
    {
     "data": {
      "text/plain": [
       "array([3, 4, 5, 6, 7, 8, 9])"
      ]
     },
     "execution_count": 70,
     "metadata": {},
     "output_type": "execute_result"
    }
   ],
   "source": [
    "# vizualizare array unidimensional ar12\n",
    "ar12"
   ]
  },
  {
   "cell_type": "code",
   "execution_count": 71,
   "id": "a9b7f4d9",
   "metadata": {},
   "outputs": [
    {
     "data": {
      "text/plain": [
       "7"
      ]
     },
     "execution_count": 71,
     "metadata": {},
     "output_type": "execute_result"
    }
   ],
   "source": [
    "# selectarea elementului de pe pozitia 5 a ar11\n",
    "ar12[4]"
   ]
  },
  {
   "cell_type": "code",
   "execution_count": 113,
   "id": "acad362e",
   "metadata": {},
   "outputs": [
    {
     "data": {
      "text/plain": [
       "array([[4, 8, 3, 9, 5],\n",
       "       [5, 9, 8, 7, 7],\n",
       "       [8, 7, 4, 5, 8]])"
      ]
     },
     "execution_count": 113,
     "metadata": {},
     "output_type": "execute_result"
    }
   ],
   "source": [
    "# vizualizare array bidimensional ar16\n",
    "ar16"
   ]
  },
  {
   "cell_type": "code",
   "execution_count": 114,
   "id": "71ddc60a",
   "metadata": {},
   "outputs": [
    {
     "data": {
      "text/plain": [
       "array([5, 9, 8, 7, 7])"
      ]
     },
     "execution_count": 114,
     "metadata": {},
     "output_type": "execute_result"
    }
   ],
   "source": [
    "# selectarea elementelor liniei a 2\n",
    "ar16[1]"
   ]
  },
  {
   "cell_type": "code",
   "execution_count": 115,
   "id": "bcb9f8b3",
   "metadata": {},
   "outputs": [
    {
     "data": {
      "text/plain": [
       "7"
      ]
     },
     "execution_count": 115,
     "metadata": {},
     "output_type": "execute_result"
    }
   ],
   "source": [
    "# selectarea elementului de pe linia a 2 poztia 4\n",
    "ar16[1,3]"
   ]
  },
  {
   "cell_type": "code",
   "execution_count": 63,
   "id": "9c4b437e",
   "metadata": {},
   "outputs": [
    {
     "data": {
      "text/plain": [
       "array([[[ 1.,  2.,  3.],\n",
       "        [ 4.,  5.,  6.]],\n",
       "\n",
       "       [[ 7.,  8.,  9.],\n",
       "        [10., 11., 12.]],\n",
       "\n",
       "       [[13., 14., 15.],\n",
       "        [16., 17., 18.]]], dtype=float32)"
      ]
     },
     "execution_count": 63,
     "metadata": {},
     "output_type": "execute_result"
    }
   ],
   "source": [
    "# vizualizare array tridimensional a3\n",
    "a3"
   ]
  },
  {
   "cell_type": "code",
   "execution_count": 64,
   "id": "a2da8edd",
   "metadata": {},
   "outputs": [
    {
     "data": {
      "text/plain": [
       "14.0"
      ]
     },
     "execution_count": 64,
     "metadata": {},
     "output_type": "execute_result"
    }
   ],
   "source": [
    "# selectarea elementului din tabelul 3 linia a 1 pozitia 2\n",
    "a3[2,0,1]"
   ]
  },
  {
   "cell_type": "markdown",
   "id": "8c814e5a",
   "metadata": {},
   "source": [
    "## 4.3. Selectarea elementelor unui array folosind slicing"
   ]
  },
  {
   "cell_type": "code",
   "execution_count": 96,
   "id": "fb2dfc47",
   "metadata": {},
   "outputs": [
    {
     "data": {
      "text/plain": [
       "array([3, 4, 5, 6, 7, 8, 9])"
      ]
     },
     "execution_count": 96,
     "metadata": {},
     "output_type": "execute_result"
    }
   ],
   "source": [
    "# vizualizare array unidimensional ar12\n",
    "ar12"
   ]
  },
  {
   "cell_type": "code",
   "execution_count": 86,
   "id": "ffaba7d1",
   "metadata": {},
   "outputs": [
    {
     "data": {
      "text/plain": [
       "array([3, 4, 5, 6])"
      ]
     },
     "execution_count": 86,
     "metadata": {},
     "output_type": "execute_result"
    }
   ],
   "source": [
    "# selectarea primelor 4 elemente array 1D ar12\n",
    "ar12[:4]"
   ]
  },
  {
   "cell_type": "code",
   "execution_count": 95,
   "id": "1521810a",
   "metadata": {},
   "outputs": [
    {
     "data": {
      "text/plain": [
       "array([4, 6, 7])"
      ]
     },
     "execution_count": 95,
     "metadata": {},
     "output_type": "execute_result"
    }
   ],
   "source": [
    "# selectarea elementelor al 2, 4 si 5 ale lui ar12\n",
    "ar12[[1,3,4]]"
   ]
  },
  {
   "cell_type": "code",
   "execution_count": 116,
   "id": "907e3e41",
   "metadata": {},
   "outputs": [
    {
     "data": {
      "text/plain": [
       "array([[4, 8, 3, 9, 5],\n",
       "       [5, 9, 8, 7, 7],\n",
       "       [8, 7, 4, 5, 8]])"
      ]
     },
     "execution_count": 116,
     "metadata": {},
     "output_type": "execute_result"
    }
   ],
   "source": [
    "# vizualizare array bidimensional ar16\n",
    "ar16"
   ]
  },
  {
   "cell_type": "code",
   "execution_count": 117,
   "id": "29ef7966",
   "metadata": {},
   "outputs": [
    {
     "data": {
      "text/plain": [
       "array([8, 7, 4, 5, 8])"
      ]
     },
     "execution_count": 117,
     "metadata": {},
     "output_type": "execute_result"
    }
   ],
   "source": [
    "# selectarea tuturor elementelor celei de a 3 linii a lui ar16\n",
    "ar16[2,:]"
   ]
  },
  {
   "cell_type": "code",
   "execution_count": 118,
   "id": "986e9c72",
   "metadata": {},
   "outputs": [
    {
     "data": {
      "text/plain": [
       "array([9, 7, 5])"
      ]
     },
     "execution_count": 118,
     "metadata": {},
     "output_type": "execute_result"
    }
   ],
   "source": [
    "# selectarea tuturor elementelor celei de a 4 coloane a lui ar16\n",
    "ar16[:, 3]"
   ]
  },
  {
   "cell_type": "code",
   "execution_count": 119,
   "id": "8e4a003f",
   "metadata": {},
   "outputs": [
    {
     "data": {
      "text/plain": [
       "array([9, 8, 7])"
      ]
     },
     "execution_count": 119,
     "metadata": {},
     "output_type": "execute_result"
    }
   ],
   "source": [
    "# selectarea elementelor 2-4 din ce dea 2 linie lui ar16\n",
    "ar16[1, 1:4]"
   ]
  },
  {
   "cell_type": "code",
   "execution_count": 120,
   "id": "b512ac7e",
   "metadata": {},
   "outputs": [
    {
     "data": {
      "text/plain": [
       "array([8, 9])"
      ]
     },
     "execution_count": 120,
     "metadata": {},
     "output_type": "execute_result"
    }
   ],
   "source": [
    "# selectarea elementelor 1 si 2 din ce dea 2 coloana lui ar16\n",
    "ar16[0:2, 1]"
   ]
  },
  {
   "cell_type": "code",
   "execution_count": 121,
   "id": "324a513e",
   "metadata": {},
   "outputs": [
    {
     "data": {
      "text/plain": [
       "array([[8, 3, 9],\n",
       "       [9, 8, 7]])"
      ]
     },
     "execution_count": 121,
     "metadata": {},
     "output_type": "execute_result"
    }
   ],
   "source": [
    "# selectarea elementelor 2-4 din primele 2 linie al lui ar16\n",
    "ar16[0:2,1:4]"
   ]
  },
  {
   "cell_type": "code",
   "execution_count": 122,
   "id": "be837b8a",
   "metadata": {},
   "outputs": [
    {
     "data": {
      "text/plain": [
       "array([9, 8, 8])"
      ]
     },
     "execution_count": 122,
     "metadata": {},
     "output_type": "execute_result"
    }
   ],
   "source": [
    "# selectarea elementelor 4 din linia 1, 3 din linia 2 si 5 din linia 3 ale lui ar16\n",
    "ar16[[0,1,2],[3,2,4]]"
   ]
  },
  {
   "cell_type": "code",
   "execution_count": 99,
   "id": "a76536a8",
   "metadata": {},
   "outputs": [
    {
     "data": {
      "text/plain": [
       "array([[[ 1.,  2.,  3.],\n",
       "        [ 4.,  5.,  6.]],\n",
       "\n",
       "       [[ 7.,  8.,  9.],\n",
       "        [10., 11., 12.]],\n",
       "\n",
       "       [[13., 14., 15.],\n",
       "        [16., 17., 18.]]], dtype=float32)"
      ]
     },
     "execution_count": 99,
     "metadata": {},
     "output_type": "execute_result"
    }
   ],
   "source": [
    "# vizualizare array tridimensional a3\n",
    "a3"
   ]
  },
  {
   "cell_type": "code",
   "execution_count": 98,
   "id": "def1fe96",
   "metadata": {},
   "outputs": [
    {
     "data": {
      "text/plain": [
       "array([[[1., 2.]],\n",
       "\n",
       "       [[7., 8.]]], dtype=float32)"
      ]
     },
     "execution_count": 98,
     "metadata": {},
     "output_type": "execute_result"
    }
   ],
   "source": [
    "# selectarea primelor 2 elemente din primele linii al primelor 2 tabele din a3\n",
    "a3[:2,:1,:2]"
   ]
  },
  {
   "cell_type": "markdown",
   "id": "e0286082",
   "metadata": {},
   "source": [
    "# 5. Actualizarea valorilor in array"
   ]
  },
  {
   "cell_type": "code",
   "execution_count": 123,
   "id": "86c70558",
   "metadata": {},
   "outputs": [
    {
     "data": {
      "text/plain": [
       "array([[4, 8, 3, 9, 5],\n",
       "       [5, 9, 8, 7, 7],\n",
       "       [8, 7, 4, 5, 8]])"
      ]
     },
     "execution_count": 123,
     "metadata": {},
     "output_type": "execute_result"
    }
   ],
   "source": [
    "# vizualizare array bidimensional ar16\n",
    "ar16"
   ]
  },
  {
   "cell_type": "code",
   "execution_count": 124,
   "id": "cd42baec",
   "metadata": {},
   "outputs": [
    {
     "data": {
      "text/plain": [
       "array([[4, 8, 3, 9, 5],\n",
       "       [5, 9, 5, 7, 7],\n",
       "       [8, 7, 4, 5, 8]])"
      ]
     },
     "execution_count": 124,
     "metadata": {},
     "output_type": "execute_result"
    }
   ],
   "source": [
    "# modificara valorii elementului al 3 din linia 2 in 5 ale ar16\n",
    "ar16[1,2] =5\n",
    "ar16"
   ]
  },
  {
   "cell_type": "code",
   "execution_count": 125,
   "id": "b331bdb0",
   "metadata": {},
   "outputs": [
    {
     "data": {
      "text/plain": [
       "array([[4, 7, 4, 0, 5],\n",
       "       [5, 9, 5, 7, 7],\n",
       "       [8, 7, 4, 5, 8]])"
      ]
     },
     "execution_count": 125,
     "metadata": {},
     "output_type": "execute_result"
    }
   ],
   "source": [
    "# modificara valorii elementelelor al 2-4 din linia 1 a ar16 in 7, 4 si 0\n",
    "ar16[0,1:4] =[7,4,0]\n",
    "ar16"
   ]
  },
  {
   "cell_type": "code",
   "execution_count": 127,
   "id": "1585a6d8",
   "metadata": {},
   "outputs": [
    {
     "data": {
      "text/plain": [
       "array([[4, 7, 4, 0, 5],\n",
       "       [5, 2, 5, 7, 7],\n",
       "       [8, 3, 4, 5, 8]])"
      ]
     },
     "execution_count": 127,
     "metadata": {},
     "output_type": "execute_result"
    }
   ],
   "source": [
    "# modificara valorii elementelelor 2 din linile 2 si 3 a ar16 in 2 si 3\n",
    "ar16[1:3,1] =[2,3]\n",
    "ar16"
   ]
  },
  {
   "cell_type": "code",
   "execution_count": 128,
   "id": "56ed8896",
   "metadata": {},
   "outputs": [
    {
     "data": {
      "text/plain": [
       "[[4, 1], [0, 4]]"
      ]
     },
     "execution_count": 128,
     "metadata": {},
     "output_type": "execute_result"
    }
   ],
   "source": [
    "# creara unei liste bidimensionale (2,2)\n",
    "l = [[4, 1], [0, 4]]\n",
    "l"
   ]
  },
  {
   "cell_type": "code",
   "execution_count": 129,
   "id": "2b689de9",
   "metadata": {},
   "outputs": [
    {
     "data": {
      "text/plain": [
       "array([[4, 7, 4, 0, 5],\n",
       "       [5, 2, 4, 1, 7],\n",
       "       [8, 3, 0, 4, 8]])"
      ]
     },
     "execution_count": 129,
     "metadata": {},
     "output_type": "execute_result"
    }
   ],
   "source": [
    "# modificara valorii elementelor 3, 4 din liniile 2 si 3 ale ar16 ci valorile listei\n",
    "ar16[1:3,2:4] =l\n",
    "ar16"
   ]
  },
  {
   "cell_type": "code",
   "execution_count": 130,
   "id": "184fc2f1",
   "metadata": {},
   "outputs": [
    {
     "data": {
      "text/plain": [
       "array([[4, 7, 4, 0, 5],\n",
       "       [9, 9, 9, 9, 9],\n",
       "       [8, 3, 0, 4, 8]])"
      ]
     },
     "execution_count": 130,
     "metadata": {},
     "output_type": "execute_result"
    }
   ],
   "source": [
    "# modificarea valorilor tuturor elementelor liniei 2 in 9\n",
    "ar16[1, :] = 9\n",
    "ar16"
   ]
  },
  {
   "cell_type": "code",
   "execution_count": 132,
   "id": "617a3ee0",
   "metadata": {},
   "outputs": [
    {
     "data": {
      "text/plain": [
       "array([[4, 7, 4, 0, 2],\n",
       "       [9, 9, 9, 9, 2],\n",
       "       [8, 3, 0, 4, 2]])"
      ]
     },
     "execution_count": 132,
     "metadata": {},
     "output_type": "execute_result"
    }
   ],
   "source": [
    "# modificarea valorilor tuturor elementelor coloanei 5 in 2\n",
    "ar16[:, 4] = 2\n",
    "ar16"
   ]
  },
  {
   "cell_type": "markdown",
   "id": "2a604064",
   "metadata": {},
   "source": [
    "# 6. Operatii aritmetice \"element cu element\" in array"
   ]
  },
  {
   "cell_type": "code",
   "execution_count": 139,
   "id": "9a234dfd",
   "metadata": {},
   "outputs": [
    {
     "data": {
      "text/plain": [
       "array([[4, 7, 4, 0, 2],\n",
       "       [9, 9, 9, 9, 2],\n",
       "       [8, 3, 0, 4, 2]])"
      ]
     },
     "execution_count": 139,
     "metadata": {},
     "output_type": "execute_result"
    }
   ],
   "source": [
    "# vizualizare array bidimensional ar16\n",
    "ar16"
   ]
  },
  {
   "cell_type": "code",
   "execution_count": 158,
   "id": "4c9908a8",
   "metadata": {},
   "outputs": [
    {
     "data": {
      "text/plain": [
       "array([[ 6,  9,  6,  2,  4],\n",
       "       [11, 11, 11, 11,  4],\n",
       "       [10,  5,  2,  6,  4]])"
      ]
     },
     "execution_count": 158,
     "metadata": {},
     "output_type": "execute_result"
    }
   ],
   "source": [
    "# Sumarea elementelor lui ar16 cu 2\n",
    "arps = ar16 + 2\n",
    "arps"
   ]
  },
  {
   "cell_type": "code",
   "execution_count": 159,
   "id": "46b06141",
   "metadata": {},
   "outputs": [
    {
     "data": {
      "text/plain": [
       "array([[-1,  2, -1, -5, -3],\n",
       "       [ 4,  4,  4,  4, -3],\n",
       "       [ 3, -2, -5, -1, -3]])"
      ]
     },
     "execution_count": 159,
     "metadata": {},
     "output_type": "execute_result"
    }
   ],
   "source": [
    "# Sumarea 5 din elementelor lui ar16\n",
    "arms = ar16 -5\n",
    "arms"
   ]
  },
  {
   "cell_type": "code",
   "execution_count": 160,
   "id": "73aa4cd7",
   "metadata": {},
   "outputs": [
    {
     "data": {
      "text/plain": [
       "array([[12, 21, 12,  0,  6],\n",
       "       [27, 27, 27, 27,  6],\n",
       "       [24,  9,  0, 12,  6]])"
      ]
     },
     "execution_count": 160,
     "metadata": {},
     "output_type": "execute_result"
    }
   ],
   "source": [
    "# }multirea elementelor lui ar16 cu 3\n",
    "aris = ar16 * 3\n",
    "aris"
   ]
  },
  {
   "cell_type": "code",
   "execution_count": 140,
   "id": "17234e4c",
   "metadata": {},
   "outputs": [
    {
     "data": {
      "text/plain": [
       "array([[8, 6, 1, 3, 8],\n",
       "       [1, 9, 8, 9, 4],\n",
       "       [1, 3, 6, 7, 2]])"
      ]
     },
     "execution_count": 140,
     "metadata": {},
     "output_type": "execute_result"
    }
   ],
   "source": [
    "# se creaza unui alt array de aceeasi forma ca ar16\n",
    "ar21 =  np.random.randint(0, 10, size=(ar16.shape))\n",
    "ar21"
   ]
  },
  {
   "cell_type": "code",
   "execution_count": 141,
   "id": "87c6f463",
   "metadata": {},
   "outputs": [
    {
     "data": {
      "text/plain": [
       "array([[12, 13,  5,  3, 10],\n",
       "       [10, 18, 17, 18,  6],\n",
       "       [ 9,  6,  6, 11,  4]])"
      ]
     },
     "execution_count": 141,
     "metadata": {},
     "output_type": "execute_result"
    }
   ],
   "source": [
    "# Sumarea ar16 si ar21 si formarea ar22\n",
    "ar22 = ar16 + ar21\n",
    "ar22"
   ]
  },
  {
   "cell_type": "code",
   "execution_count": 142,
   "id": "de16f85f",
   "metadata": {},
   "outputs": [
    {
     "data": {
      "text/plain": [
       "array([[12, 13,  5,  3, 10],\n",
       "       [10, 18, 17, 18,  6],\n",
       "       [ 9,  6,  6, 11,  4]])"
      ]
     },
     "execution_count": 142,
     "metadata": {},
     "output_type": "execute_result"
    }
   ],
   "source": [
    "# Sumarea ar16 si ar21 folosind functia np.add()\n",
    "ar22 = np.add(ar16, ar21)\n",
    "ar22"
   ]
  },
  {
   "cell_type": "code",
   "execution_count": 143,
   "id": "b6a9aee6",
   "metadata": {},
   "outputs": [
    {
     "data": {
      "text/plain": [
       "array([[ 4, -1, -3,  3,  6],\n",
       "       [-8,  0, -1,  0,  2],\n",
       "       [-7,  0,  6,  3,  0]])"
      ]
     },
     "execution_count": 143,
     "metadata": {},
     "output_type": "execute_result"
    }
   ],
   "source": [
    "# Sumarea lui ar16 din ar21 si formarea ar23\n",
    "ar23 = ar21 - ar16\n",
    "ar23"
   ]
  },
  {
   "cell_type": "code",
   "execution_count": 144,
   "id": "5a57a3b5",
   "metadata": {},
   "outputs": [
    {
     "data": {
      "text/plain": [
       "array([[32, 42,  4,  0, 16],\n",
       "       [ 9, 81, 72, 81,  8],\n",
       "       [ 8,  9,  0, 28,  4]])"
      ]
     },
     "execution_count": 144,
     "metadata": {},
     "output_type": "execute_result"
    }
   ],
   "source": [
    "# Inmultirea ar16 si ar21 si formarea ar24\n",
    "ar24 = ar16 * ar21\n",
    "ar24"
   ]
  },
  {
   "cell_type": "code",
   "execution_count": 145,
   "id": "3d7c01d8",
   "metadata": {},
   "outputs": [
    {
     "data": {
      "text/plain": [
       "array([[0.5       , 1.16666667, 4.        , 0.        , 0.25      ],\n",
       "       [9.        , 1.        , 1.125     , 1.        , 0.5       ],\n",
       "       [8.        , 1.        , 0.        , 0.57142857, 1.        ]])"
      ]
     },
     "execution_count": 145,
     "metadata": {},
     "output_type": "execute_result"
    }
   ],
   "source": [
    "# Impartirea lui ar16 la ar21 si formarea ar25\n",
    "ar25 = ar16 / ar21\n",
    "ar25"
   ]
  },
  {
   "cell_type": "code",
   "execution_count": 146,
   "id": "9503df76",
   "metadata": {},
   "outputs": [
    {
     "data": {
      "text/plain": [
       "array([[0, 1, 4, 0, 0],\n",
       "       [9, 1, 1, 1, 0],\n",
       "       [8, 1, 0, 0, 1]], dtype=int32)"
      ]
     },
     "execution_count": 146,
     "metadata": {},
     "output_type": "execute_result"
    }
   ],
   "source": [
    "# Impartirea cu rotungire a lui ar16 la ar21 si formarea ar26\n",
    "ar26 = ar16 // ar21\n",
    "ar26"
   ]
  },
  {
   "cell_type": "code",
   "execution_count": 148,
   "id": "b5a79301",
   "metadata": {},
   "outputs": [
    {
     "data": {
      "text/plain": [
       "array([[64, 36,  1,  9, 64],\n",
       "       [ 1, 81, 64, 81, 16],\n",
       "       [ 1,  9, 36, 49,  4]], dtype=int32)"
      ]
     },
     "execution_count": 148,
     "metadata": {},
     "output_type": "execute_result"
    }
   ],
   "source": [
    "# Ridicarea lui ar21 la patrat\n",
    "ar26 = ar21 **2\n",
    "ar26"
   ]
  },
  {
   "cell_type": "code",
   "execution_count": 150,
   "id": "179965c0",
   "metadata": {},
   "outputs": [
    {
     "data": {
      "text/plain": [
       "array([[64, 36,  1,  9, 64],\n",
       "       [ 1, 81, 64, 81, 16],\n",
       "       [ 1,  9, 36, 49,  4]], dtype=int32)"
      ]
     },
     "execution_count": 150,
     "metadata": {},
     "output_type": "execute_result"
    }
   ],
   "source": [
    "# Ridicarea lui ar21 la patrat utilizand functia np.square()\n",
    "ar26=np.square(ar21)\n",
    "ar26"
   ]
  },
  {
   "cell_type": "code",
   "execution_count": 154,
   "id": "d0f31914",
   "metadata": {},
   "outputs": [
    {
     "data": {
      "text/plain": [
       "array([[2, 0, 1, 0, 2],\n",
       "       [1, 0, 2, 0, 1],\n",
       "       [1, 0, 0, 1, 2]], dtype=int32)"
      ]
     },
     "execution_count": 154,
     "metadata": {},
     "output_type": "execute_result"
    }
   ],
   "source": [
    "# Determinarea restului divizarii elemetelor lui ar21 la 3\n",
    "ar27 = ar21 % 3\n",
    "ar27"
   ]
  },
  {
   "cell_type": "code",
   "execution_count": 155,
   "id": "15c99c25",
   "metadata": {},
   "outputs": [
    {
     "data": {
      "text/plain": [
       "array([[2.98095799e+03, 4.03428793e+02, 2.71828183e+00, 2.00855369e+01,\n",
       "        2.98095799e+03],\n",
       "       [2.71828183e+00, 8.10308393e+03, 2.98095799e+03, 8.10308393e+03,\n",
       "        5.45981500e+01],\n",
       "       [2.71828183e+00, 2.00855369e+01, 4.03428793e+02, 1.09663316e+03,\n",
       "        7.38905610e+00]])"
      ]
     },
     "execution_count": 155,
     "metadata": {},
     "output_type": "execute_result"
    }
   ],
   "source": [
    "# Determinarea exponentei elementelor lui ar 21\n",
    "ar28 = np.exp(ar21)\n",
    "ar28"
   ]
  },
  {
   "cell_type": "code",
   "execution_count": 156,
   "id": "2284957f",
   "metadata": {},
   "outputs": [
    {
     "data": {
      "text/plain": [
       "array([[8., 6., 1., 3., 8.],\n",
       "       [1., 9., 8., 9., 4.],\n",
       "       [1., 3., 6., 7., 2.]])"
      ]
     },
     "execution_count": 156,
     "metadata": {},
     "output_type": "execute_result"
    }
   ],
   "source": [
    "# Determinarea logaritmului natural al elementelor lui ar28\n",
    "ar29 = np.log(ar28)\n",
    "ar29"
   ]
  },
  {
   "cell_type": "code",
   "execution_count": 157,
   "id": "93188b41",
   "metadata": {},
   "outputs": [
    {
     "data": {
      "text/plain": [
       "array([[ 0.98935825, -0.2794155 ,  0.84147098,  0.14112001,  0.98935825],\n",
       "       [ 0.84147098,  0.41211849,  0.98935825,  0.41211849, -0.7568025 ],\n",
       "       [ 0.84147098,  0.14112001, -0.2794155 ,  0.6569866 ,  0.90929743]])"
      ]
     },
     "execution_count": 157,
     "metadata": {},
     "output_type": "execute_result"
    }
   ],
   "source": [
    "# Determinarea sinusului elementelor lui ar29\n",
    "ar30 = np.sin(ar29)\n",
    "ar30"
   ]
  },
  {
   "cell_type": "markdown",
   "id": "a45df722",
   "metadata": {},
   "source": [
    "# 7. Operatii de agregare a elementelor unui array"
   ]
  },
  {
   "cell_type": "code",
   "execution_count": 164,
   "id": "3e245ff4",
   "metadata": {},
   "outputs": [
    {
     "data": {
      "text/plain": [
       "array([3, 4, 5, 6, 7, 8, 9])"
      ]
     },
     "execution_count": 164,
     "metadata": {},
     "output_type": "execute_result"
    }
   ],
   "source": [
    "# vizualizare array unidimensional ar12\n",
    "ar12"
   ]
  },
  {
   "cell_type": "code",
   "execution_count": 165,
   "id": "f2253c2a",
   "metadata": {},
   "outputs": [
    {
     "data": {
      "text/plain": [
       "42"
      ]
     },
     "execution_count": 165,
     "metadata": {},
     "output_type": "execute_result"
    }
   ],
   "source": [
    "# Determinarea sumei tuturor elemtelor cu functia sum() din python\n",
    "sum(ar12)"
   ]
  },
  {
   "cell_type": "code",
   "execution_count": 166,
   "id": "fcfd5eea",
   "metadata": {},
   "outputs": [
    {
     "data": {
      "text/plain": [
       "42"
      ]
     },
     "execution_count": 166,
     "metadata": {},
     "output_type": "execute_result"
    }
   ],
   "source": [
    "# Determinarea sumei tuturor elemtelor cu functia sum() din numpy\n",
    "np.sum(ar12)"
   ]
  },
  {
   "cell_type": "markdown",
   "id": "0515e8d2",
   "metadata": {},
   "source": [
    "- diferenta de timp dintre execurarea operatiilor cu `sum()` si `np.sum()`"
   ]
  },
  {
   "cell_type": "code",
   "execution_count": 171,
   "id": "0820bc3a",
   "metadata": {},
   "outputs": [
    {
     "name": "stdout",
     "output_type": "stream",
     "text": [
      "Numarul de elemete: 100000\n",
      "Primele 5 elemente: [0.01005622 0.7266825  0.78176096 0.87737011 0.49983115]\n",
      "Timpul de executie a operatie de sumare a tutror elementelor cu:\n",
      " - functia sum() din Python\n",
      "5.66 ms ± 144 µs per loop (mean ± std. dev. of 7 runs, 100 loops each)\n",
      " - functia np.sum() din NumPy\n",
      "31.2 µs ± 176 ns per loop (mean ± std. dev. of 7 runs, 10000 loops each)\n"
     ]
    }
   ],
   "source": [
    "# crearea unui array imens\n",
    "arr_imens = np.random.random(100000)\n",
    "\n",
    "# vizualizarea numarului de elemnte in arr_imens\n",
    "print(f'Numarul de elemete: {arr_imens.size}')\n",
    "\n",
    "# vizualizarea primelor 5 elemente\n",
    "print(f'Primele 5 elemente: {arr_imens[:5]}')\n",
    "\n",
    "# determinarea timpului de executie a operatiei sum() din python cu functia magica %timeit\n",
    "print('Timpul de executie a operatie de sumare a tutror elementelor cu:')\n",
    "print(' - functia sum() din Python')\n",
    "%timeit sum(arr_imens)\n",
    "\n",
    "# determinarea timpului de executie a operatiei np.sum() din numpy cu functia magica %timeit\n",
    "print(' - functia np.sum() din NumPy')\n",
    "%timeit np.sum(arr_imens)"
   ]
  },
  {
   "cell_type": "code",
   "execution_count": 172,
   "id": "4761a680",
   "metadata": {},
   "outputs": [
    {
     "data": {
      "text/plain": [
       "181.4102564102564"
      ]
     },
     "execution_count": 172,
     "metadata": {},
     "output_type": "execute_result"
    }
   ],
   "source": [
    "# determinarea raportului dintre timpul de executie a opertiilor python si numpy\n",
    "(5.66*10**(-3))/(31.2*10**(-6))"
   ]
  },
  {
   "cell_type": "code",
   "execution_count": 173,
   "id": "ccadfa78",
   "metadata": {},
   "outputs": [
    {
     "data": {
      "text/plain": [
       "array([[8, 6, 1, 3, 8],\n",
       "       [1, 9, 8, 9, 4],\n",
       "       [1, 3, 6, 7, 2]])"
      ]
     },
     "execution_count": 173,
     "metadata": {},
     "output_type": "execute_result"
    }
   ],
   "source": [
    "# vizualizare array bidimensional ar21\n",
    "ar21"
   ]
  },
  {
   "cell_type": "code",
   "execution_count": 174,
   "id": "cdc9d161",
   "metadata": {},
   "outputs": [
    {
     "data": {
      "text/plain": [
       "array([5.2, 6.2, 3.8])"
      ]
     },
     "execution_count": 174,
     "metadata": {},
     "output_type": "execute_result"
    }
   ],
   "source": [
    "# Determinarea valorii medii a elementelor pe linii in ar21\n",
    "np.mean(ar21, axis=1)"
   ]
  },
  {
   "cell_type": "code",
   "execution_count": 175,
   "id": "f162a860",
   "metadata": {},
   "outputs": [
    {
     "data": {
      "text/plain": [
       "array([3.33333333, 6.        , 5.        , 6.33333333, 4.66666667])"
      ]
     },
     "execution_count": 175,
     "metadata": {},
     "output_type": "execute_result"
    }
   ],
   "source": [
    "# Determinarea valorii medii a elementelor pe coloane in ar21\n",
    "np.mean(ar21, axis=0)"
   ]
  },
  {
   "cell_type": "code",
   "execution_count": 176,
   "id": "2f825d56",
   "metadata": {},
   "outputs": [
    {
     "data": {
      "text/plain": [
       "5.066666666666666"
      ]
     },
     "execution_count": 176,
     "metadata": {},
     "output_type": "execute_result"
    }
   ],
   "source": [
    "# Determinarea valorii medii a tuturor elementelor ar21\n",
    "np.mean(ar21)"
   ]
  },
  {
   "cell_type": "code",
   "execution_count": 177,
   "id": "0e68e42a",
   "metadata": {},
   "outputs": [
    {
     "data": {
      "text/plain": [
       "1"
      ]
     },
     "execution_count": 177,
     "metadata": {},
     "output_type": "execute_result"
    }
   ],
   "source": [
    "# Determinarea valorii minime a tuturor elementelor ar21\n",
    "np.min(ar21)"
   ]
  },
  {
   "cell_type": "code",
   "execution_count": 179,
   "id": "d10c4f99",
   "metadata": {},
   "outputs": [
    {
     "data": {
      "text/plain": [
       "9"
      ]
     },
     "execution_count": 179,
     "metadata": {},
     "output_type": "execute_result"
    }
   ],
   "source": [
    "# Determinarea valorii maxime a tuturor elementelor ar21\n",
    "np.max(ar21)"
   ]
  },
  {
   "cell_type": "code",
   "execution_count": 180,
   "id": "440cce60",
   "metadata": {},
   "outputs": [
    {
     "data": {
      "text/plain": [
       "2.9544693074880453"
      ]
     },
     "execution_count": 180,
     "metadata": {},
     "output_type": "execute_result"
    }
   ],
   "source": [
    "# Determinarea valorii abaterii medii standarte a tuturor elementelor ar21\n",
    "np.std(ar21)"
   ]
  },
  {
   "cell_type": "code",
   "execution_count": 181,
   "id": "f5be32dd",
   "metadata": {},
   "outputs": [
    {
     "data": {
      "text/plain": [
       "8.72888888888889"
      ]
     },
     "execution_count": 181,
     "metadata": {},
     "output_type": "execute_result"
    }
   ],
   "source": [
    "# Determinarea valorii abaterii medii patratice a tuturor elementelor ar21\n",
    "np.var(ar21)"
   ]
  },
  {
   "cell_type": "code",
   "execution_count": 193,
   "id": "aec19697",
   "metadata": {},
   "outputs": [
    {
     "data": {
      "text/plain": [
       "array([[1, 3, 3, 8, 2],\n",
       "       [6, 5, 6, 2, 3],\n",
       "       [5, 9, 4, 3, 2],\n",
       "       [9, 0, 5, 3, 4],\n",
       "       [7, 5, 9, 4, 9]])"
      ]
     },
     "execution_count": 193,
     "metadata": {},
     "output_type": "execute_result"
    }
   ],
   "source": [
    "# crearae unui array bidimensional patratic (5,5)\n",
    "ar31 =  np.random.randint(0, 10, size=(5,5))\n",
    "ar31"
   ]
  },
  {
   "cell_type": "code",
   "execution_count": 194,
   "id": "36cca8b6",
   "metadata": {},
   "outputs": [
    {
     "data": {
      "text/plain": [
       "5935.000000000002"
      ]
     },
     "execution_count": 194,
     "metadata": {},
     "output_type": "execute_result"
    }
   ],
   "source": [
    "# Determinara determinantului matricii corespunzataore lui ar31\n",
    "np.linalg.det(ar31)"
   ]
  },
  {
   "cell_type": "markdown",
   "id": "2c6291c7",
   "metadata": {},
   "source": [
    "# 8. Modificare formei unui array\n",
    "Cand se realizaza operatii cu doua variabile de tip array, NumPy compara formele acestora, iar pentru aceasta trebuie sa se respecte una din cele 2 reguli\n",
    "* formele trebuie sa fie identice\n",
    "* o dimensiune trebuie sa fie 1"
   ]
  },
  {
   "cell_type": "code",
   "execution_count": 189,
   "id": "f4e7288c",
   "metadata": {},
   "outputs": [
    {
     "data": {
      "text/plain": [
       "array([[1, 2, 3],\n",
       "       [4, 5, 6]])"
      ]
     },
     "execution_count": 189,
     "metadata": {},
     "output_type": "execute_result"
    }
   ],
   "source": [
    "# vizualizarea lui a2\n",
    "a2"
   ]
  },
  {
   "cell_type": "code",
   "execution_count": 190,
   "id": "b772b00a",
   "metadata": {},
   "outputs": [
    {
     "data": {
      "text/plain": [
       "(2, 3)"
      ]
     },
     "execution_count": 190,
     "metadata": {},
     "output_type": "execute_result"
    }
   ],
   "source": [
    "# vizualizarea formei lui a2\n",
    "a2.shape"
   ]
  },
  {
   "cell_type": "code",
   "execution_count": 191,
   "id": "e51395a1",
   "metadata": {},
   "outputs": [
    {
     "data": {
      "text/plain": [
       "2"
      ]
     },
     "execution_count": 191,
     "metadata": {},
     "output_type": "execute_result"
    }
   ],
   "source": [
    "# vizualizarea numarului dimensiunii lui a2\n",
    "a2.ndim"
   ]
  },
  {
   "cell_type": "code",
   "execution_count": 185,
   "id": "c4e76567",
   "metadata": {},
   "outputs": [
    {
     "data": {
      "text/plain": [
       "array([[[ 1.,  2.,  3.],\n",
       "        [ 4.,  5.,  6.]],\n",
       "\n",
       "       [[ 7.,  8.,  9.],\n",
       "        [10., 11., 12.]],\n",
       "\n",
       "       [[13., 14., 15.],\n",
       "        [16., 17., 18.]]], dtype=float32)"
      ]
     },
     "execution_count": 185,
     "metadata": {},
     "output_type": "execute_result"
    }
   ],
   "source": [
    "# vizualizarea lui a3\n",
    "a3"
   ]
  },
  {
   "cell_type": "code",
   "execution_count": 186,
   "id": "13109ac0",
   "metadata": {},
   "outputs": [
    {
     "data": {
      "text/plain": [
       "(3, 2, 3)"
      ]
     },
     "execution_count": 186,
     "metadata": {},
     "output_type": "execute_result"
    }
   ],
   "source": [
    "# vizualizarea formei lui a3\n",
    "a3.shape"
   ]
  },
  {
   "cell_type": "code",
   "execution_count": 187,
   "id": "fb78bbe5",
   "metadata": {},
   "outputs": [
    {
     "data": {
      "text/plain": [
       "3"
      ]
     },
     "execution_count": 187,
     "metadata": {},
     "output_type": "execute_result"
    }
   ],
   "source": [
    "# vizualizarea numarului dimensiunii lui a3\n",
    "a3.ndim"
   ]
  },
  {
   "cell_type": "markdown",
   "id": "d4a7e7df",
   "metadata": {},
   "source": [
    "Daca se incerca imultirea a2*a3 se obtine o eroare deoarece formele nu respecta nici una din cele 2 reguli"
   ]
  },
  {
   "cell_type": "code",
   "execution_count": 195,
   "id": "3bc362df",
   "metadata": {},
   "outputs": [
    {
     "data": {
      "text/plain": [
       "array([1, 2, 3, 4, 5, 6])"
      ]
     },
     "execution_count": 195,
     "metadata": {},
     "output_type": "execute_result"
    }
   ],
   "source": [
    "# formarea unui array 1D din a2 prin alipirea tuturor liniilor\n",
    "a4 = a2.ravel()\n",
    "a4"
   ]
  },
  {
   "cell_type": "code",
   "execution_count": 196,
   "id": "5bd9326a",
   "metadata": {},
   "outputs": [
    {
     "data": {
      "text/plain": [
       "array([[[1, 2, 3],\n",
       "        [4, 5, 6]]])"
      ]
     },
     "execution_count": 196,
     "metadata": {},
     "output_type": "execute_result"
    }
   ],
   "source": [
    "# modificarea formei lui a2 prin adaugarea inca a unei dimensiuni\n",
    "a4 = a2.reshape(1,2,3)\n",
    "a4"
   ]
  },
  {
   "cell_type": "code",
   "execution_count": 199,
   "id": "51ef2e98",
   "metadata": {},
   "outputs": [
    {
     "data": {
      "text/plain": [
       "(1, 2, 3)"
      ]
     },
     "execution_count": 199,
     "metadata": {},
     "output_type": "execute_result"
    }
   ],
   "source": [
    "# vizualizarea formei lui a4\n",
    "a4.shape"
   ]
  },
  {
   "cell_type": "code",
   "execution_count": 197,
   "id": "c29b1fa6",
   "metadata": {},
   "outputs": [
    {
     "data": {
      "text/plain": [
       "3"
      ]
     },
     "execution_count": 197,
     "metadata": {},
     "output_type": "execute_result"
    }
   ],
   "source": [
    "# vizualizarea numarului dimensiunii lui a4\n",
    "a4.ndim"
   ]
  },
  {
   "cell_type": "code",
   "execution_count": 198,
   "id": "3a3352ba",
   "metadata": {},
   "outputs": [
    {
     "data": {
      "text/plain": [
       "array([[[  1.,   4.,   9.],\n",
       "        [ 16.,  25.,  36.]],\n",
       "\n",
       "       [[  7.,  16.,  27.],\n",
       "        [ 40.,  55.,  72.]],\n",
       "\n",
       "       [[ 13.,  28.,  45.],\n",
       "        [ 64.,  85., 108.]]])"
      ]
     },
     "execution_count": 198,
     "metadata": {},
     "output_type": "execute_result"
    }
   ],
   "source": [
    "# se realizeaza operatia de imultirea a2*a3\n",
    "a2*a3"
   ]
  },
  {
   "cell_type": "code",
   "execution_count": 200,
   "id": "161aa547",
   "metadata": {},
   "outputs": [
    {
     "data": {
      "text/plain": [
       "array([[1, 2, 3],\n",
       "       [4, 5, 6]])"
      ]
     },
     "execution_count": 200,
     "metadata": {},
     "output_type": "execute_result"
    }
   ],
   "source": [
    "# stergerea tuturor dimensiunilor unitare\n",
    "a5 = a4.squeeze()\n",
    "a5"
   ]
  },
  {
   "cell_type": "code",
   "execution_count": 201,
   "id": "e210bd1d",
   "metadata": {},
   "outputs": [
    {
     "data": {
      "text/plain": [
       "(2, 3)"
      ]
     },
     "execution_count": 201,
     "metadata": {},
     "output_type": "execute_result"
    }
   ],
   "source": [
    "# vizualizarea formei lui a5\n",
    "a5.shape"
   ]
  },
  {
   "cell_type": "markdown",
   "id": "07b5a0cc",
   "metadata": {},
   "source": [
    "# 9. Transpusa  unui array"
   ]
  },
  {
   "cell_type": "code",
   "execution_count": 204,
   "id": "191ef3a1",
   "metadata": {},
   "outputs": [
    {
     "data": {
      "text/plain": [
       "array([[8, 6, 1, 3, 8],\n",
       "       [1, 9, 8, 9, 4],\n",
       "       [1, 3, 6, 7, 2]])"
      ]
     },
     "execution_count": 204,
     "metadata": {},
     "output_type": "execute_result"
    }
   ],
   "source": [
    "# vizualizarea lui ar21\n",
    "ar21"
   ]
  },
  {
   "cell_type": "code",
   "execution_count": 205,
   "id": "eb5191c5",
   "metadata": {},
   "outputs": [
    {
     "data": {
      "text/plain": [
       "(3, 5)"
      ]
     },
     "execution_count": 205,
     "metadata": {},
     "output_type": "execute_result"
    }
   ],
   "source": [
    "# vizualizarea formei lui ar21\n",
    "ar21.shape"
   ]
  },
  {
   "cell_type": "code",
   "execution_count": 206,
   "id": "ce23120e",
   "metadata": {},
   "outputs": [
    {
     "data": {
      "text/plain": [
       "2"
      ]
     },
     "execution_count": 206,
     "metadata": {},
     "output_type": "execute_result"
    }
   ],
   "source": [
    "# vizualizarea numarului dimensiunii lui ar21\n",
    "ar21.ndim"
   ]
  },
  {
   "cell_type": "code",
   "execution_count": 207,
   "id": "754f2ed5",
   "metadata": {},
   "outputs": [
    {
     "data": {
      "text/plain": [
       "array([[8, 1, 1],\n",
       "       [6, 9, 3],\n",
       "       [1, 8, 6],\n",
       "       [3, 9, 7],\n",
       "       [8, 4, 2]])"
      ]
     },
     "execution_count": 207,
     "metadata": {},
     "output_type": "execute_result"
    }
   ],
   "source": [
    "# obtinerea transpusei lui ar21\n",
    "a6 = ar21.T\n",
    "a6"
   ]
  },
  {
   "cell_type": "code",
   "execution_count": 209,
   "id": "c58389b3",
   "metadata": {},
   "outputs": [
    {
     "data": {
      "text/plain": [
       "(5, 3)"
      ]
     },
     "execution_count": 209,
     "metadata": {},
     "output_type": "execute_result"
    }
   ],
   "source": [
    "# vizualizarea formei lui a76\n",
    "a6.shape"
   ]
  },
  {
   "cell_type": "code",
   "execution_count": 210,
   "id": "13fee11a",
   "metadata": {},
   "outputs": [
    {
     "data": {
      "text/plain": [
       "2"
      ]
     },
     "execution_count": 210,
     "metadata": {},
     "output_type": "execute_result"
    }
   ],
   "source": [
    "# vizualizarea numarului dimensiunii lui a6\n",
    "a6.ndim"
   ]
  },
  {
   "cell_type": "markdown",
   "id": "5c8bcf39",
   "metadata": {},
   "source": [
    "# 10. Îmulțirea a 2 matrici corespunzatoare array "
   ]
  },
  {
   "cell_type": "code",
   "execution_count": 211,
   "id": "849f9505",
   "metadata": {},
   "outputs": [],
   "source": [
    "# se creaza 2 matrice de aceleasi dimensiuni\n",
    "np.random.seed(9)\n",
    "\n",
    "mat1=np.random.randint(10, size=(3,4))\n",
    "mat2=np.random.randint(10, size=(3,4))"
   ]
  },
  {
   "cell_type": "code",
   "execution_count": 212,
   "id": "77344ea9",
   "metadata": {},
   "outputs": [
    {
     "data": {
      "text/plain": [
       "array([[5, 6, 8, 6],\n",
       "       [1, 6, 4, 8],\n",
       "       [1, 8, 5, 1]])"
      ]
     },
     "execution_count": 212,
     "metadata": {},
     "output_type": "execute_result"
    }
   ],
   "source": [
    "# vizualizarea lui mat1\n",
    "mat1"
   ]
  },
  {
   "cell_type": "code",
   "execution_count": 213,
   "id": "3d856f3c",
   "metadata": {},
   "outputs": [
    {
     "data": {
      "text/plain": [
       "array([[0, 8, 8, 8],\n",
       "       [2, 6, 8, 1],\n",
       "       [8, 3, 5, 3]])"
      ]
     },
     "execution_count": 213,
     "metadata": {},
     "output_type": "execute_result"
    }
   ],
   "source": [
    "# vizualizarea lui mat2\n",
    "mat2"
   ]
  },
  {
   "cell_type": "code",
   "execution_count": 214,
   "id": "3dbde77a",
   "metadata": {},
   "outputs": [
    {
     "data": {
      "text/plain": [
       "((3, 4), (3, 4))"
      ]
     },
     "execution_count": 214,
     "metadata": {},
     "output_type": "execute_result"
    }
   ],
   "source": [
    "# vizualizarea formelor lui mat1 si mat2\n",
    "mat1.shape, mat2.shape"
   ]
  },
  {
   "cell_type": "code",
   "execution_count": 215,
   "id": "5c4aefc3",
   "metadata": {},
   "outputs": [
    {
     "data": {
      "text/plain": [
       "array([[ 0, 48, 64, 48],\n",
       "       [ 2, 36, 32,  8],\n",
       "       [ 8, 24, 25,  3]])"
      ]
     },
     "execution_count": 215,
     "metadata": {},
     "output_type": "execute_result"
    }
   ],
   "source": [
    "# imultirea \"element cu element\" a mat1 si mat2 (Hadamard product)\n",
    "mat1 * mat2"
   ]
  },
  {
   "cell_type": "markdown",
   "id": "2350e7f8",
   "metadata": {},
   "source": [
    "Pentru îmultimrea a doua matrici matrici de formele (m,n) si (x,y) se realizarea operatia `DOT product` care necesită ca n=x iar matricea rezultanta va avea forma (m,y).\n",
    "Mai multe se pot gasi pe adresele:\n",
    "https://www.mathsisfun.com/algebra/matrix-multiplying.html\n",
    "\n",
    "http://matrixmultiplication.xyz/\n",
    "\n",
    "Inmultirea dot a matricilor mat1 si mat2 va rezulta in eroare deoarece ambele au forma (3,4)\n",
    "Pentru a exclude eroare se schimba forma unei dintre matrici prin intermediul transpusei"
   ]
  },
  {
   "cell_type": "code",
   "execution_count": 216,
   "id": "cf0ea8fd",
   "metadata": {},
   "outputs": [
    {
     "data": {
      "text/plain": [
       "array([[0, 2, 8],\n",
       "       [8, 6, 3],\n",
       "       [8, 8, 5],\n",
       "       [8, 1, 3]])"
      ]
     },
     "execution_count": 216,
     "metadata": {},
     "output_type": "execute_result"
    }
   ],
   "source": [
    "# determinarea transpusei lui mat2\n",
    "mat2_T = mat2.T\n",
    "mat2_T"
   ]
  },
  {
   "cell_type": "code",
   "execution_count": 217,
   "id": "9e4c38cc",
   "metadata": {},
   "outputs": [
    {
     "data": {
      "text/plain": [
       "array([[160, 116, 116],\n",
       "       [144,  78,  70],\n",
       "       [112,  91,  60]])"
      ]
     },
     "execution_count": 217,
     "metadata": {},
     "output_type": "execute_result"
    }
   ],
   "source": [
    "# realizarea operatiei dot product dintre mat1 si mat2_T\n",
    "mat3 = np.dot(mat1, mat2_T)\n",
    "mat3"
   ]
  },
  {
   "cell_type": "code",
   "execution_count": 218,
   "id": "ac75f428",
   "metadata": {},
   "outputs": [
    {
     "data": {
      "text/plain": [
       "(3, 3)"
      ]
     },
     "execution_count": 218,
     "metadata": {},
     "output_type": "execute_result"
    }
   ],
   "source": [
    "# vizualizarea formei lui mat3\n",
    "mat3.shape"
   ]
  },
  {
   "cell_type": "code",
   "execution_count": 219,
   "id": "648cdd21",
   "metadata": {},
   "outputs": [
    {
     "data": {
      "text/plain": [
       "array([[ 10,  76,  48,  24],\n",
       "       [ 49, 108, 103,  99],\n",
       "       [ 53, 136, 121, 117],\n",
       "       [ 44,  78,  83,  59]])"
      ]
     },
     "execution_count": 219,
     "metadata": {},
     "output_type": "execute_result"
    }
   ],
   "source": [
    "# realizarea operatiei dot product dintre mat2_T si mat1\n",
    "mat4 = np.dot(mat2_T, mat1)\n",
    "mat4"
   ]
  },
  {
   "cell_type": "code",
   "execution_count": 220,
   "id": "77196e99",
   "metadata": {},
   "outputs": [
    {
     "data": {
      "text/plain": [
       "(4, 4)"
      ]
     },
     "execution_count": 220,
     "metadata": {},
     "output_type": "execute_result"
    }
   ],
   "source": [
    "# vizualizarea formei lui mat4\n",
    "mat4.shape"
   ]
  },
  {
   "cell_type": "code",
   "execution_count": null,
   "id": "95f5eac6",
   "metadata": {},
   "outputs": [],
   "source": []
  }
 ],
 "metadata": {
  "kernelspec": {
   "display_name": "Python 3 (ipykernel)",
   "language": "python",
   "name": "python3"
  },
  "language_info": {
   "codemirror_mode": {
    "name": "ipython",
    "version": 3
   },
   "file_extension": ".py",
   "mimetype": "text/x-python",
   "name": "python",
   "nbconvert_exporter": "python",
   "pygments_lexer": "ipython3",
   "version": "3.9.7"
  }
 },
 "nbformat": 4,
 "nbformat_minor": 5
}
